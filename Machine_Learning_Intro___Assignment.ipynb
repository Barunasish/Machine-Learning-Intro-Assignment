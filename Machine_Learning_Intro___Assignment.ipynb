{
  "nbformat": 4,
  "nbformat_minor": 0,
  "metadata": {
    "colab": {
      "provenance": []
    },
    "kernelspec": {
      "name": "python3",
      "display_name": "Python 3"
    },
    "language_info": {
      "name": "python"
    }
  },
  "cells": [
    {
      "cell_type": "code",
      "execution_count": null,
      "metadata": {
        "id": "WVvBns0gMj68"
      },
      "outputs": [],
      "source": [
        "\"\"\"\n",
        "#Question 1: Explain the differences between AI, ML, Deep Learning (DL), and Data Science (DS).\n",
        "\n",
        "Answer: Artificial Intelligence (AI):The most general term is artificial intelligence (AI), which refers to the development of machines that are capable of carrying out tasks that have historically required human intelligence.\n",
        "AI includes a range of methods, such as learning-based systems like ML and DL, rule-based systems, and expert systems.AI aims to give machines the ability to see, think, learn, and behave in ways that are similar to or better than those of humans.\n",
        "Machine Learning (ML):AI includes machine learning (ML) as a subset. Its main goal is to create methods that let computers learn from data without explicit programming.\n",
        "ML algorithms find patterns in the data they are trained on and use those patterns to create predictions or judgements rather than hard-coding rules.\n",
        "With additional data, this learning process enables ML models to perform better over time.\n",
        "Deep Learning (DL):A specific subset of machine learning is called deep learning (DL). It makes use of multi-layered artificial neural networks (thus the term \"deep\") to extract intricate patterns from big datasets. Deep neural networks,\n",
        "which draw inspiration from the architecture and operations of the human brain, are highly effective at tasks such as speech recognition, image recognition, and natural language processing, frequently attaining state-of-the-art results in these domains.\n",
        "Data Science (DS): This is an interdisciplinary field that uses scientific procedures, systems, algorithms, and methodologies to extract knowledge and insights from data.\n",
        "It covers every stage of the data lifecycle, including gathering, cleaning, analysing, visualising, and interpreting data.Although data science can use AI, ML, and DL approaches to accomplish its objectives, it also uses domain knowledge, statistics, and mathematics\n",
        "to draw insightful conclusions and aid in decision-making.\n",
        "The main objective of building intelligent robots is artificial intelligence (AI). ML allows machines to learn from data, which is one way to create AI. DL is a specialised, sophisticated ML method that makes use of deep neural networks.\n",
        "The larger discipline of data science is concerned with drawing conclusions from data, and as part of its methodology, it frequently makes use of tools and techniques from AI, ML, and DL.\n",
        "\n",
        "\"\"\""
      ]
    },
    {
      "cell_type": "code",
      "source": [
        "\"\"\"\n",
        "Question 2: What are the types of machine learning? Describe each with one real-world example.\n",
        "\n",
        "Answer: There are basically three types of Machine Learning Algorithms:\n",
        "\n",
        "1. Supervised Learning: In this kind of machine learning, a model is trained using a dataset that has been \"labelled\" with the right responses. Like a student studying from an instructor, the model learns to map input data to the appropriate output.\n",
        "Example: Predicting the price of a house based on its size, location, and other features.\n",
        "2. Unsupervised Learning: Unlabelled data is used by the algorithm in unsupervised learning. Without any predetermined right outputs, its objective is to find hidden patterns, structures, or relationships within the data.\n",
        "Example: Clustering similar customers based on their purchasing behavior.\n",
        "3. Reinforcement Learning:In reinforcement learning, a \"agent\" interacts with its surroundings to learn how to make judgements. A positive reward or a negative punishment is given to the agent depending on the acts it takes. Learning a strategy (policy)\n",
        "that maximises the agent's cumulative total reward over time is the aim.\n",
        "Example:Self-Driving Cars. By making choices regarding steering, braking, and acceleration in a simulated or actual driving environment, a reinforcement learning agent can learn to drive.\n",
        "It gradually learns to successfully navigate the environment by receiving incentives for safe driving and penalties for risky behaviour.\n",
        "\n",
        "\"\"\""
      ],
      "metadata": {
        "id": "RYH5En5WQw33"
      },
      "execution_count": null,
      "outputs": []
    },
    {
      "cell_type": "code",
      "source": [
        "\"\"\"\n",
        "Question 3: Define overfitting, underfitting, and the bias-variance tradeoff in machine learning.\n",
        "\n",
        "Answer: A basic model known as underfitting (high bias) performs poorly on both training and fresh data because it fails to identify the underlying patterns in the data.\n",
        "A complicated model known as overfitting (high variance) performs poorly on unseen data because it learns the training data—including noise—too well.\n",
        "In machine learning, the Bias-Variance Tradeoff is the fundamental problem of finding a sweet spot between the error from high variance (overfitting)\n",
        "and the error from high bias (underfitting) in order to balance a model's complexity and minimise total error.\n",
        "\"\"\""
      ],
      "metadata": {
        "id": "RbyULIdMSUYl"
      },
      "execution_count": null,
      "outputs": []
    },
    {
      "cell_type": "code",
      "source": [
        "\"\"\"\n",
        "Question 4: What are outliers in a dataset, and list three common techniques for handling them.\n",
        "\n",
        "Answer: Data points that substantially differ from the bulk of other observations in a dataset are known as outliers. They stand for extreme numbers that,\n",
        "in relation to the rest of the data, are either abnormally high or low. Measurement errors, data entry errors,and very uncommon but legitimate events are just a few of the causes of outliers.\n",
        "The three most common ways to remove outliers are as follows:\n",
        "1.Removal (Trimming/Truncation): This entails locating the dataset's outlier data points and eliminating them straight away. Although this approach is simple,\n",
        "it should be applied carefully because it may result in the loss of important data, particularly if the outliers are representative of real but uncommon occurrences.\n",
        "Methods such as thresholding (e.g., Z-scores or IQR) are frequently used to determine which points should be eliminated.\n",
        "2.Transformation:By transforming the data mathematically, this method seeks to lessen the impact of outliers. Common modifications include Winsorization,\n",
        "which replaces outlier values with the closest non-outlier values within a specified range (e.g., a specific percentile),and scaling (e.g., standardisation or normalisation) to bring data points to a comparable scale.\n",
        "3.Robust Estimation:This strategy makes use of machine learning algorithms or statistical techniques that are naturally less susceptible to the existence of outliers.\n",
        "These strategies minimise the influence of extreme numbers by adjusting their calculations rather than altering the data. Examples include M-estimators, which estimate model parameters using robust objective functions,\n",
        "and robust regression approaches such as Huber regression or L1-regularized regression.\n",
        "\"\"\""
      ],
      "metadata": {
        "id": "FmNWS6v2S9mE"
      },
      "execution_count": null,
      "outputs": []
    },
    {
      "cell_type": "code",
      "source": [
        "\"\"\"\n",
        "Question 5: Explain the process of handling missing values and mention one imputation technique for numerical and one for categorical data.\n",
        "\n",
        "Answer: In order to address incomplete data points within a dataset, handling missing values is an essential step in data preprocessing.Finding the missing values,\n",
        "comprehending their patterns (such as missing entirely at random, missing at random, or missing not at random), and then using an appropriate management plan are the usual steps in the process. These tactics may involve imputation,\n",
        "which is more frequently used, or the removal of rows or columns that contain missing values.\n",
        "Imputation Technique for Numerical Data:\n",
        "Median Imputation: This method substitutes the median of the non-missing values in that particular feature for any missing numerical values. Because it is less sensitive to extreme values and offers a more reliable assessment of central tendency,\n",
        "the median is favoured over the mean when the data contains outliers.\n",
        "Imputation Technique for Categorical Data:\n",
        "Mode Imputation: This method substitutes the mode, or most frequent category, of the non-missing values in that particular characteristic for the missing categorical data. When there is a certain dominant category, this approach is simple and successful. As an alternative,\n",
        "a predefined string such as \"Unknown\" or \"Missing\" can be used to explicitly indicate the lack of missing categorical values\n",
        "\"\"\"\n"
      ],
      "metadata": {
        "id": "JxxkiYqgUZLe"
      },
      "execution_count": null,
      "outputs": []
    },
    {
      "cell_type": "code",
      "source": [
        "\"\"\"\n",
        "Question 6: Write a Python program that:\n",
        "● Creates a synthetic imbalanced dataset with make_classification() from sklearn.datasets.\n",
        "● Prints the class distribution\n",
        "\"\"\"\n",
        "\n",
        "import numpy as np\n",
        "import matplotlib.pyplot as plt\n",
        "from sklearn.datasets import make_classification\n",
        "from collections import Counter\n",
        "\n",
        "# Create a synthetic imbalanced dataset\n",
        "X, y = make_classification(n_samples=1000,\n",
        "                           n_features=20,\n",
        "                           n_informative=2,\n",
        "                           n_redundant=10,\n",
        "                           n_clusters_per_class=1,\n",
        "                           weights=[0.9, 0.1],  # Imbalance: 90% of class 0, 10% of class 1\n",
        "                           flip_y=0,\n",
        "                           random_state=42)\n",
        "\n",
        "# Print the class distribution\n",
        "class_distribution = Counter(y)\n",
        "print(\"Class distribution:\", class_distribution)\n",
        "\n",
        "# Optional: Visualize the class distribution\n",
        "plt.bar(class_distribution.keys(), class_distribution.values(), color=['blue', 'orange'])\n",
        "plt.xlabel('Class')\n",
        "plt.ylabel('Number of Samples')\n",
        "plt.title('Class Distribution in Synthetic Dataset')\n",
        "plt.xticks(list(class_distribution.keys()))\n",
        "plt.show()\n"
      ],
      "metadata": {
        "colab": {
          "base_uri": "https://localhost:8080/",
          "height": 489
        },
        "id": "c5prB1Y6VNzj",
        "outputId": "ed3a2494-aed2-4190-d45a-f1db91ebe002"
      },
      "execution_count": 6,
      "outputs": [
        {
          "output_type": "stream",
          "name": "stdout",
          "text": [
            "Class distribution: Counter({np.int64(0): 900, np.int64(1): 100})\n"
          ]
        },
        {
          "output_type": "display_data",
          "data": {
            "text/plain": [
              "<Figure size 640x480 with 1 Axes>"
            ],
            "image/png": "[encoded data removed]"
          },
          "metadata": {}
        }
      ]
    },
    {
      "cell_type": "code",
      "source": [
        "\"\"\"\n",
        "Question 7: Implement one-hot encoding using pandas for the following list of colors:\n",
        "['Red', 'Green', 'Blue', 'Green', 'Red']. Print the resulting dataframe\n",
        "\"\"\"\n",
        "\n",
        "\n",
        "import pandas as pd\n",
        "\n",
        "# List of colors\n",
        "colors = ['Red', 'Green', 'Blue', 'Green', 'Red']\n",
        "\n",
        "# Create a DataFrame from the list\n",
        "df = pd.DataFrame(colors, columns=['Color'])\n",
        "\n",
        "# Perform one-hot encoding\n",
        "one_hot_encoded_df = pd.get_dummies(df, columns=['Color'])\n",
        "\n",
        "# Print the resulting DataFrame\n",
        "print(one_hot_encoded_df)\n"
      ],
      "metadata": {
        "colab": {
          "base_uri": "https://localhost:8080/"
        },
        "id": "2pf0nwtTVmHB",
        "outputId": "0a592f88-3791-40f2-894c-3b19e237d9a8"
      },
      "execution_count": 7,
      "outputs": [
        {
          "output_type": "stream",
          "name": "stdout",
          "text": [
            "   Color_Blue  Color_Green  Color_Red\n",
            "0       False        False       True\n",
            "1       False         True      False\n",
            "2        True        False      False\n",
            "3       False         True      False\n",
            "4       False        False       True\n"
          ]
        }
      ]
    },
    {
      "cell_type": "code",
      "source": [
        "\"\"\"\n",
        "Question 8: Write a Python script to:\n",
        "● Generate 1000 samples from a normal distribution.\n",
        "● Introduce 50 random missing values.\n",
        "● Fill missing values with the column mean.\n",
        "● Plot a histogram before and after imputation\n",
        "\"\"\"\n",
        "\n",
        "\n",
        "import numpy as np\n",
        "import pandas as pd\n",
        "import matplotlib.pyplot as plt\n",
        "\n",
        "# Set a random seed for reproducibility\n",
        "np.random.seed(42)\n",
        "\n",
        "# Generate 1000 samples from a normal distribution\n",
        "data = np.random.normal(loc=0, scale=1, size=1000)\n",
        "\n",
        "# Introduce 50 random missing values\n",
        "missing_indices = np.random.choice(range(1000), size=50, replace=False)\n",
        "data[missing_indices] = np.nan\n",
        "\n",
        "# Create a DataFrame\n",
        "df = pd.DataFrame(data, columns=['Value'])\n",
        "\n",
        "# Plot histogram before imputation\n",
        "plt.figure(figsize=(12, 5))\n",
        "\n",
        "plt.subplot(1, 2, 1)\n",
        "plt.hist(df['Value'], bins=30, color='blue', alpha=0.7)\n",
        "plt.title('Histogram Before Imputation')\n",
        "plt.xlabel('Value')\n",
        "plt.ylabel('Frequency')\n",
        "\n",
        "# Fill missing values with the column mean\n",
        "mean_value = df['Value'].mean()\n",
        "df['Value'].fillna(mean_value, inplace=True)\n",
        "\n",
        "# Plot histogram after imputation\n",
        "plt.subplot(1, 2, 2)\n",
        "plt.hist(df['Value'], bins=30, color='green', alpha=0.7)\n",
        "plt.title('Histogram After Imputation')\n",
        "plt.xlabel('Value')\n",
        "plt.ylabel('Frequency')\n",
        "\n",
        "# Show the plots\n",
        "plt.tight_layout()\n",
        "plt.show()\n"
      ],
      "metadata": {
        "colab": {
          "base_uri": "https://localhost:8080/",
          "height": 648
        },
        "id": "uPVnrZnUWkdh",
        "outputId": "a17e60f6-607a-41b9-8bff-9c78c45ac7b2"
      },
      "execution_count": 11,
      "outputs": [
        {
          "output_type": "stream",
          "name": "stderr",
          "text": [
            "/tmp/ipython-input-2385336957.py:38: FutureWarning: A value is trying to be set on a copy of a DataFrame or Series through chained assignment using an inplace method.\n",
            "The behavior will change in pandas 3.0. This inplace method will never work because the intermediate object on which we are setting values always behaves as a copy.\n",
            "\n",
            "For example, when doing 'df[col].method(value, inplace=True)', try using 'df.method({col: value}, inplace=True)' or df[col] = df[col].method(value) instead, to perform the operation inplace on the original object.\n",
            "\n",
            "\n",
            "  df['Value'].fillna(mean_value, inplace=True)\n"
          ]
        },
        {
          "output_type": "display_data",
          "data": {
            "text/plain": [
              "<Figure size 1200x500 with 2 Axes>"
            ],
            "image/png": "[encoded data removed]"
          },
          "metadata": {}
        }
      ]
    },
    {
      "cell_type": "code",
      "source": [
        "\"\"\"\n",
        "Question 9: Implement Min-Max scaling on the following list of numbers [2, 5, 10, 15, 20] using sklearn.preprocessing.MinMaxScaler. Print the scaled array.\n",
        "\n",
        "\"\"\"\n",
        "\n",
        "import numpy as np\n",
        "from sklearn.preprocessing import MinMaxScaler\n",
        "\n",
        "# List of numbers\n",
        "data = np.array([[2], [5], [10], [15], [20]])\n",
        "\n",
        "# Create a MinMaxScaler instance\n",
        "scaler = MinMaxScaler()\n",
        "\n",
        "# Fit and transform the data\n",
        "scaled_data = scaler.fit_transform(data)\n",
        "\n",
        "# Print the scaled array\n",
        "print(\"Scaled array:\", scaled_data.flatten())\n"
      ],
      "metadata": {
        "colab": {
          "base_uri": "https://localhost:8080/"
        },
        "id": "__W_uv5FW2qu",
        "outputId": "88db98cc-f378-40ca-d384-f88fc48f525f"
      },
      "execution_count": 12,
      "outputs": [
        {
          "output_type": "stream",
          "name": "stdout",
          "text": [
            "Scaled array: [0.         0.16666667 0.44444444 0.72222222 1.        ]\n"
          ]
        }
      ]
    },
    {
      "cell_type": "code",
      "source": [
        "\"\"\"\n",
        "Question 10: You are working as a data scientist for a retail company. You receive a customer\n",
        "transaction dataset that contains:\n",
        "● Missing ages,\n",
        "● Outliers in transaction amount,\n",
        "● A highly imbalanced target (fraud vs. non-fraud),\n",
        "● Categorical variables like payment method.\n",
        "Explain the step-by-step data preparation plan you’d follow before training a machine learning model. Include how you’d address missing data, outliers, imbalance, and encoding.\n",
        "\n",
        "Answer:\n",
        "1. Data Collection: Compile the data and comprehend its structure, including the target variables and features.\n",
        "\n",
        "2. Handling Missing Values: Determine the missing values and choose a method (e.g., removal of rows/columns, imputation using mean/median/mode).\n",
        "\n",
        "3. Outlier Detection and Treatment: Determine whether to eliminate or modify outliers by using statistical techniques (such as Z-scores or IQR).\n",
        "\n",
        "4. Addressing Class Imbalance: Use strategies like resampling, which involves oversampling the minority class or undersampling the majority class, or algorithms that are designed to deal with imbalance naturally.\n",
        "\n",
        "5. Encoding Categorical Variables: Utilise methods such as label encoding or one-hot encoding to transform category variables into numerical representations.\n",
        "\n",
        "6. Feature Scaling: Model performance can be enhanced by standardising or normalising numerical features to make sure they are on the same scale.\n",
        "\n",
        "7. Data Splitting: To properly assess the performance of the model, divide the dataset into training and testing sets.\n",
        "\n",
        "8. Final Review: Verify that the prepared dataset is ready for modelling by looking for any lingering problems.\n",
        "\"\"\""
      ],
      "metadata": {
        "id": "xSwX0mDfXZGs"
      },
      "execution_count": null,
      "outputs": []
    }
  ]
}